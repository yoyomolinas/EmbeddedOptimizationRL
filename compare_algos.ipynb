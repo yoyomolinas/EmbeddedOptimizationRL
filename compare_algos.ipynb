{
 "cells": [
  {
   "cell_type": "code",
   "execution_count": 1,
   "metadata": {},
   "outputs": [
    {
     "name": "stderr",
     "output_type": "stream",
     "text": [
      "Using TensorFlow backend.\n"
     ]
    }
   ],
   "source": [
    "import numpy as np\n",
    "import random\n",
    "import numpy as np\n",
    "import matplotlib.pyplot as plt\n",
    "import matplotlib.patches as mpatches\n",
    "from utils import progressBar\n",
    "from metrics import Metric\n",
    "\n",
    "import data_utils\n",
    "from mdp import MDP\n",
    "from rewards import reward_func_linear, reward_func_decay, reward_func_simple_decay  # Call it with stats to initialize\n",
    "from env import Env\n",
    "from q_learning import QLearningAlgo\n",
    "from regression import RegressionAlgo\n",
    "from parameterSchedulers import linearScheduler\n",
    "from policy import EpsilonGreedyPolicy, GreedyPolicy, AlwaysDoPolicy, RandomPolicy, PositiveRewardPolicy"
   ]
  },
  {
   "cell_type": "code",
   "execution_count": 2,
   "metadata": {},
   "outputs": [
    {
     "name": "stderr",
     "output_type": "stream",
     "text": [
      "100%|██████████| 53/53 [00:26<00:00,  1.42it/s]\n"
     ]
    }
   ],
   "source": [
    "data = data_utils.Data(small=False)"
   ]
  },
  {
   "cell_type": "code",
   "execution_count": 11,
   "metadata": {},
   "outputs": [],
   "source": [
    "config = {'init_cost' : 0.4,\n",
    "          'discount' : 0.25,\n",
    "          'q_epochs' : 3,\n",
    "          'r_epochs' : 3,\n",
    "          'q_policy' : EpsilonGreedyPolicy(action_space = MDP.action_space, epsilon_scheduler=linearScheduler(1.,c=1,k=0.0008)),\n",
    "#           'q_policy' : RandomPolicy(action_space = MDP.action_space),\n",
    "          'r_policy' : RandomPolicy(action_space = MDP.action_space),\n",
    "          'test_policy': GreedyPolicy(action_space = MDP.action_space)}"
   ]
  },
  {
   "cell_type": "code",
   "execution_count": 12,
   "metadata": {},
   "outputs": [],
   "source": [
    "# Markov decision process for each algorithm\n",
    "mdp_Q = MDP(data=data)\n",
    "mdp_R = MDP(data=data)\n",
    "\n",
    "# Reward functions\n",
    "reward_func = reward_func_simple_decay(data.statistics, verbose=False, init_cost = config['init_cost'])\n",
    "\n",
    "# Environment \n",
    "env = Env(reward_func=reward_func, mode = 'machine')"
   ]
  },
  {
   "cell_type": "code",
   "execution_count": 13,
   "metadata": {},
   "outputs": [],
   "source": [
    "# Algos\n",
    "algo_Q = QLearningAlgo(mdp= mdp_Q, env = env, policy = config['q_policy'], discount = config['discount'])\n",
    "algo_R = RegressionAlgo(mdp = mdp_R, env = env, policy = config['r_policy'])"
   ]
  },
  {
   "cell_type": "code",
   "execution_count": 14,
   "metadata": {},
   "outputs": [],
   "source": [
    "# Ftting functions for each algo\n",
    "def fit_R(epochs = 3):\n",
    "    algo_R.collect_data(n = 3)\n",
    "    algo_R.fit(epochs = epochs)\n",
    "\n",
    "def fit_Q(epochs = 1):\n",
    "    for i in range(epochs):\n",
    "        algo_Q.fit(epochs = 1, remember=True)\n",
    "        algo_Q.replay(batch_size=16, epochs = 1)\n",
    "\n",
    "# Testing function\n",
    "def test(algo, policy, visual = False):\n",
    "    algo.test(policy = policy, visualize = visual)"
   ]
  },
  {
   "cell_type": "code",
   "execution_count": 15,
   "metadata": {},
   "outputs": [
    {
     "name": "stderr",
     "output_type": "stream",
     "text": [
      "100%|██████████| 129030/129030 [00:14<00:00, 9005.29it/s] \n"
     ]
    },
    {
     "name": "stdout",
     "output_type": "stream",
     "text": [
      "Epoch 1/3\n",
      "129030/129030 [==============================] - 25s 195us/step - loss: 0.1483\n",
      "Epoch 2/3\n",
      "129030/129030 [==============================] - 27s 213us/step - loss: 0.1099\n",
      "Epoch 3/3\n",
      "129030/129030 [==============================] - 27s 208us/step - loss: 0.1045\n"
     ]
    },
    {
     "name": "stderr",
     "output_type": "stream",
     "text": [
      "100%|██████████| 8135/8135 [00:03<00:00, 2357.81it/s]\n"
     ]
    },
    {
     "name": "stdout",
     "output_type": "stream",
     "text": [
      "Testing accumulated reward : 402.0294056087815\n"
     ]
    }
   ],
   "source": [
    "fit_R(epochs = config['r_epochs'])\n",
    "test(algo_R, policy = config['test_policy'])"
   ]
  },
  {
   "cell_type": "code",
   "execution_count": 16,
   "metadata": {
    "scrolled": true
   },
   "outputs": [
    {
     "name": "stderr",
     "output_type": "stream",
     "text": [
      "100%|██████████| 43010/43010 [01:57<00:00, 367.24it/s]\n"
     ]
    },
    {
     "name": "stdout",
     "output_type": "stream",
     "text": [
      "Training accumulated reward : -13559.103091822455\n",
      "Epoch 1/1\n"
     ]
    },
    {
     "name": "stderr",
     "output_type": "stream",
     "text": [
      "100%|██████████| 43010/43010 [00:27<00:00, 1549.25it/s]\n",
      "100%|██████████| 43010/43010 [01:58<00:00, 362.69it/s]\n"
     ]
    },
    {
     "name": "stdout",
     "output_type": "stream",
     "text": [
      "Training accumulated reward : -21178.15112389508\n",
      "Epoch 1/1\n"
     ]
    },
    {
     "name": "stderr",
     "output_type": "stream",
     "text": [
      "100%|██████████| 86020/86020 [00:58<00:00, 1482.17it/s]\n",
      "100%|██████████| 43010/43010 [01:54<00:00, 376.10it/s]\n"
     ]
    },
    {
     "name": "stdout",
     "output_type": "stream",
     "text": [
      "Training accumulated reward : -25957.044701549563\n",
      "Epoch 1/1\n"
     ]
    },
    {
     "name": "stderr",
     "output_type": "stream",
     "text": [
      "100%|██████████| 129030/129030 [01:18<00:00, 1637.75it/s]\n",
      "100%|██████████| 8135/8135 [00:02<00:00, 3171.47it/s]\n"
     ]
    },
    {
     "name": "stdout",
     "output_type": "stream",
     "text": [
      "Testing accumulated reward : 259.6001708758158\n"
     ]
    }
   ],
   "source": [
    "fit_Q(epochs=config['q_epochs'])\n",
    "test(algo_Q, policy = config['test_policy'])"
   ]
  },
  {
   "cell_type": "code",
   "execution_count": 17,
   "metadata": {},
   "outputs": [],
   "source": [
    "def plot(*algos):\n",
    "    # Plot accumulated reward over time\n",
    "    fig, axes = plt.subplots(1, 2, figsize=(13, 10))\n",
    "    axes = np.array([axes]).flatten()\n",
    "    \n",
    "    axes[0].set_title(\"Accumulated reward over time\")\n",
    "    for algo in algos:\n",
    "        ratio = np.mean(algo.metrics['test']['action'].history) \n",
    "        axes[0].plot(algo.metrics['test']['accumulated_reward'].history, label = \"%s : %.1f%%\"%(algo.name, ratio * 100))\n",
    "    axes[0].legend(bbox_to_anchor=(-0., 1), loc=2, borderaxespad=.3)\n",
    "    \n",
    "    axes[1].plot(algos[0].metrics['train']['epsilon'].history)\n",
    "    \n",
    "    plt.show()\n"
   ]
  },
  {
   "cell_type": "code",
   "execution_count": 18,
   "metadata": {
    "scrolled": false
   },
   "outputs": [
    {
     "data": {
      "image/png": "[encoded data removed]",
      "text/plain": [
       "<Figure size 936x720 with 2 Axes>"
      ]
     },
     "metadata": {},
     "output_type": "display_data"
    }
   ],
   "source": [
    "plot(algo_Q, algo_R)"
   ]
  }
 ],
 "metadata": {
  "kernelspec": {
   "display_name": "Python 3",
   "language": "python",
   "name": "python3"
  },
  "language_info": {
   "codemirror_mode": {
    "name": "ipython",
    "version": 3
   },
   "file_extension": ".py",
   "mimetype": "text/x-python",
   "name": "python",
   "nbconvert_exporter": "python",
   "pygments_lexer": "ipython3",
   "version": "3.6.7"
  }
 },
 "nbformat": 4,
 "nbformat_minor": 2
}
