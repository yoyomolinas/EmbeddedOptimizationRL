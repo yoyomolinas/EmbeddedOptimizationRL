{
 "cells": [
  {
   "cell_type": "code",
   "execution_count": 1,
   "metadata": {},
   "outputs": [
    {
     "name": "stderr",
     "output_type": "stream",
     "text": [
      "Using TensorFlow backend.\n"
     ]
    }
   ],
   "source": [
    "import keras\n",
    "import numpy as np\n",
    "import random\n",
    "import numpy as np\n",
    "import matplotlib.pyplot as plt\n",
    "from tqdm import tqdm\n",
    "from utils import progressBar\n",
    "from metrics import Metric\n",
    "\n",
    "import data_utils\n",
    "from mdp import MDP\n",
    "from rewards import reward_func_linear, reward_func_decay, reward_func_simple_decay  # Call it with stats to initialize\n",
    "from env import Env\n",
    "from regression import RegressionAlgo\n",
    "from policy import EpsilonGreedyPolicy, GreedyPolicy, AlwaysDoPolicy, RandomPolicy, PositiveRewardPolicy"
   ]
  },
  {
   "cell_type": "code",
   "execution_count": 2,
   "metadata": {},
   "outputs": [
    {
     "name": "stderr",
     "output_type": "stream",
     "text": [
      "100%|██████████| 53/53 [00:26<00:00,  1.36it/s]\n"
     ]
    }
   ],
   "source": [
    "data = data_utils.Data(small = False)"
   ]
  },
  {
   "cell_type": "code",
   "execution_count": 66,
   "metadata": {},
   "outputs": [],
   "source": [
    "mdp = MDP(data=data)\n",
    "# Simple decay as reward\n",
    "reward_func = reward_func_linear(data.statistics, verbose=False, init_cost = 0.8)\n",
    "env = Env(reward_func=reward_func, mode = 'machine')\n",
    "# policy = EpsilonGreedyPolicy(action_space = mdp.action_space)\n",
    "policy = RandomPolicy(action_space = mdp.action_space)\n",
    "# test_policy = GreedyPolicy(action_space = mdp.action_space)"
   ]
  },
  {
   "cell_type": "code",
   "execution_count": 67,
   "metadata": {},
   "outputs": [],
   "source": [
    "algo = RegressionAlgo(mdp = mdp, env = env, policy = policy)"
   ]
  },
  {
   "cell_type": "code",
   "execution_count": 68,
   "metadata": {},
   "outputs": [
    {
     "name": "stdout",
     "output_type": "stream",
     "text": [
      "_________________________________________________________________\n",
      "Layer (type)                 Output Shape              Param #   \n",
      "=================================================================\n",
      "dense_4 (Dense)              (None, 128)               131968    \n",
      "_________________________________________________________________\n",
      "dense_5 (Dense)              (None, 64)                8256      \n",
      "_________________________________________________________________\n",
      "dense_6 (Dense)              (None, 2)                 130       \n",
      "=================================================================\n",
      "Total params: 140,354\n",
      "Trainable params: 140,354\n",
      "Non-trainable params: 0\n",
      "_________________________________________________________________\n"
     ]
    }
   ],
   "source": [
    "algo.model.summary()"
   ]
  },
  {
   "cell_type": "code",
   "execution_count": 69,
   "metadata": {},
   "outputs": [
    {
     "name": "stderr",
     "output_type": "stream",
     "text": [
      "100%|██████████| 137448/137448 [00:28<00:00, 4886.98it/s]\n"
     ]
    }
   ],
   "source": [
    "algo.collect_data(n = 3)"
   ]
  },
  {
   "cell_type": "code",
   "execution_count": 70,
   "metadata": {},
   "outputs": [
    {
     "name": "stdout",
     "output_type": "stream",
     "text": [
      "Epoch 1/1\n",
      "137448/137448 [==============================] - 57s 413us/step - loss: 0.0314\n"
     ]
    }
   ],
   "source": [
    "algo.fit(epochs = 1)"
   ]
  },
  {
   "cell_type": "code",
   "execution_count": 71,
   "metadata": {},
   "outputs": [
    {
     "name": "stderr",
     "output_type": "stream",
     "text": [
      "100%|██████████| 5329/5329 [00:04<00:00, 1225.31it/s]\n"
     ]
    }
   ],
   "source": [
    "# algo.test(policy=RandomPolicy(action_space=algo.mdp.action_space))\n",
    "algo.test(policy=GreedyPolicy(action_space=algo.mdp.action_space), visualize=False)"
   ]
  },
  {
   "cell_type": "code",
   "execution_count": 72,
   "metadata": {
    "scrolled": false
   },
   "outputs": [],
   "source": [
    "def plot(algo, mode):\n",
    "    # mode = 'test'\n",
    "    fig, axes = plt.subplots(1, 2, figsize=(12, 6))\n",
    "    fig.suptitle(mode)\n",
    "    axes = axes.flatten()\n",
    "\n",
    "    axes[0].set_title(\"Accumulated reward over time\")\n",
    "    axes[0].plot(algo.metrics[mode]['accumulated_reward'].history)\n",
    "\n",
    "    axes[1].set_title(\"Actual and predicted rewards\")\n",
    "    rewards = np.array(algo.metrics[mode]['reward'].history)\n",
    "    pred_rewards = np.array(algo.metrics[mode]['pred_reward'].history)\n",
    "    idx = np.argsort(rewards)\n",
    "    axes[1].plot(rewards[idx])\n",
    "    axes[1].plot(pred_rewards[idx, 0])\n",
    "    axes[1].plot(pred_rewards[idx, 1])\n",
    "    \n",
    "\n",
    "#     pts = []\n",
    "#     action_sum = 0\n",
    "#     num_choices = 0\n",
    "#     for t in algo.metrics[mode]['action_per_track'].history:\n",
    "#         pts.append(np.mean(t) * 100)\n",
    "#         action_sum += sum(t)\n",
    "#         num_choices += len(t)\n",
    "        \n",
    "#     axes[2].set_title(\"Percentage of actions per track\")\n",
    "#     pts = np.sort(pts)\n",
    "#     axes[2].set_yticks(np.arange(0, 101, step=7))\n",
    "#     axes[2].set_xticks(np.arange(0))\n",
    "#     axes[2].set_xlabel(\"track\")\n",
    "#     axes[2].set_ylabel(\"percentage\")\n",
    "#     axes[2].scatter(range(len(pts)), pts, s=2)\n",
    "    pred_rewards = np.array(algo.metrics[mode]['pred_reward'].history)\n",
    "    print(\"Ratio of actions taken\", np.sum(np.argmax(pred_rewards, axis = -1)) / len(pred_rewards))\n",
    "    plt.show()\n"
   ]
  },
  {
   "cell_type": "code",
   "execution_count": 73,
   "metadata": {},
   "outputs": [
    {
     "name": "stdout",
     "output_type": "stream",
     "text": [
      "Ratio of actions taken 0.43047476074310376\n"
     ]
    },
    {
     "data": {
      "image/png": "[encoded data removed]",
      "text/plain": [
       "<Figure size 864x432 with 2 Axes>"
      ]
     },
     "metadata": {},
     "output_type": "display_data"
    }
   ],
   "source": [
    "# Plot Random Policy Test\n",
    "plot(algo, 'test')"
   ]
  },
  {
   "cell_type": "code",
   "execution_count": null,
   "metadata": {},
   "outputs": [],
   "source": []
  }
 ],
 "metadata": {
  "kernelspec": {
   "display_name": "Python 3",
   "language": "python",
   "name": "python3"
  },
  "language_info": {
   "codemirror_mode": {
    "name": "ipython",
    "version": 3
   },
   "file_extension": ".py",
   "mimetype": "text/x-python",
   "name": "python",
   "nbconvert_exporter": "python",
   "pygments_lexer": "ipython3",
   "version": "3.6.7"
  }
 },
 "nbformat": 4,
 "nbformat_minor": 2
}
